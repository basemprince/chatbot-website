{
 "cells": [
  {
   "cell_type": "code",
   "execution_count": 20,
   "id": "b84cc23e",
   "metadata": {},
   "outputs": [
    {
     "name": "stderr",
     "output_type": "stream",
     "text": [
      "USER_AGENT environment variable not set, consider setting it to identify your requests.\n"
     ]
    }
   ],
   "source": [
    "from fastapi import FastAPI\n",
    "from pydantic import BaseModel\n",
    "from fastapi.middleware.cors import CORSMiddleware\n",
    "from dotenv import load_dotenv\n",
    "import os\n",
    "\n",
    "from langchain_openai import ChatOpenAI, OpenAIEmbeddings\n",
    "from langchain.chains import RetrievalQA\n",
    "from langchain_community.document_loaders import WebBaseLoader\n",
    "from langchain.text_splitter import RecursiveCharacterTextSplitter\n",
    "from langchain_community.vectorstores import FAISS"
   ]
  },
  {
   "cell_type": "code",
   "execution_count": 21,
   "id": "e068192c",
   "metadata": {},
   "outputs": [],
   "source": [
    "load_dotenv()\n",
    "openai_key = os.getenv(\"OPENAI_API_KEY\")\n",
    "if not openai_key:\n",
    "    raise ValueError(\"OPENAI_API_KEY not found in .env\")\n",
    "\n",
    "# 🚀 Initialize FastAPI\n",
    "app = FastAPI()\n",
    "\n",
    "app.add_middleware(\n",
    "    CORSMiddleware,\n",
    "    allow_origins=[\"https://www.basemshaker.com\", \"http://127.0.0.1:5500\"],\n",
    "    allow_credentials=True,\n",
    "    allow_methods=[\"*\"],\n",
    "    allow_headers=[\"*\"],\n",
    ")\n",
    "\n",
    "\n",
    "# 📬 FastAPI schema\n",
    "class Message(BaseModel):\n",
    "    text: str\n",
    "\n",
    "\n",
    "# 🔍 Load and split website content\n",
    "loader = WebBaseLoader(\"https://www.basemshaker.com\")\n",
    "docs = loader.load()\n",
    "\n",
    "splitter = RecursiveCharacterTextSplitter(chunk_size=1000, chunk_overlap=100)\n",
    "split_docs = splitter.split_documents(docs)\n",
    "\n",
    "# 🔎 Embed documents for retrieval\n",
    "embeddings = OpenAIEmbeddings()\n",
    "vectorstore = FAISS.from_documents(split_docs, embeddings)\n",
    "\n",
    "# 🔁 Create a retriever + QA chain\n",
    "retriever = vectorstore.as_retriever()\n",
    "llm = ChatOpenAI(model_name=\"gpt-3.5-turbo\", temperature=0.5)\n",
    "\n",
    "qa_chain = RetrievalQA.from_chain_type(llm=llm, retriever=retriever, return_source_documents=False)"
   ]
  },
  {
   "cell_type": "code",
   "execution_count": 27,
   "id": "6d1fadb5",
   "metadata": {},
   "outputs": [
    {
     "data": {
      "text/plain": [
       "{'query': 'What is the purpose of this website?',\n",
       " 'result': \"This website appears to be a personal portfolio showcasing the skills, experiences, and expertise of Basem Shaker, a Data Scientist and Machine Learning Engineer. The purpose seems to be to provide information about Basem's technical skills, work experience, education, and projects in order to attract potential opportunities, collaborations, or discussions with visitors who are interested in his background and work. It also serves as a platform for Basem to showcase his work and accomplishments in the fields of machine learning, robotics, automation, simulations, and more.\"}"
      ]
     },
     "execution_count": 27,
     "metadata": {},
     "output_type": "execute_result"
    }
   ],
   "source": [
    "qa_chain.invoke(\"What is the purpose of this website?\")"
   ]
  },
  {
   "cell_type": "code",
   "execution_count": null,
   "id": "0448f008",
   "metadata": {},
   "outputs": [],
   "source": [
    "# 📡 FastAPI endpoint\n",
    "@app.post(\"/chat\")\n",
    "def chat_endpoint(msg: Message):\n",
    "    response = qa_chain.invoke(msg.text)\n",
    "    return response[\"result\"]"
   ]
  }
 ],
 "metadata": {
  "kernelspec": {
   "display_name": "chatbot-env",
   "language": "python",
   "name": "python3"
  },
  "language_info": {
   "codemirror_mode": {
    "name": "ipython",
    "version": 3
   },
   "file_extension": ".py",
   "mimetype": "text/x-python",
   "name": "python",
   "nbconvert_exporter": "python",
   "pygments_lexer": "ipython3",
   "version": "3.12.11"
  }
 },
 "nbformat": 4,
 "nbformat_minor": 5
}
